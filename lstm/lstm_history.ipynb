{
 "cells": [
  {
   "cell_type": "markdown",
   "metadata": {},
   "source": [
    "Imports"
   ]
  },
  {
   "cell_type": "code",
   "execution_count": 2,
   "metadata": {
    "scrolled": true
   },
   "outputs": [],
   "source": [
    "from math import sqrt\n",
    "from numpy import concatenate\n",
    "from matplotlib import pyplot\n",
    "from pandas import read_csv\n",
    "from pandas import DataFrame\n",
    "from pandas import concat\n",
    "from sklearn.preprocessing import MinMaxScaler\n",
    "from sklearn.preprocessing import LabelEncoder\n",
    "from sklearn.metrics import mean_squared_error\n",
    "from sklearn.metrics import r2_score\n",
    "from keras.models import Sequential\n",
    "from keras.layers import Dense\n",
    "from keras.layers import LSTM\n",
    "from keras.layers import Bidirectional, Embedding\n",
    "from scipy.stats import pearsonr\n",
    "from keras_self_attention import SeqSelfAttention\n",
    "import numpy as np\n",
    "import pandas as pd\n",
    "import time"
   ]
  },
  {
   "cell_type": "code",
   "execution_count": 3,
   "metadata": {},
   "outputs": [],
   "source": [
    "# convert series to supervised learning\n",
    "def series_to_supervised(data, n_in=1, n_out=1, dropnan=True):\n",
    "    n_vars = 1 if type(data) is list else data.shape[1]\n",
    "    df = DataFrame(data)\n",
    "    cols, names = list(), list()\n",
    "    # input sequence (t-n, ... t-1)\n",
    "    for i in range(n_in, 0, -1):\n",
    "        cols.append(df.shift(i))\n",
    "        names += [('var%d(t-%d)' % (j+1, i)) for j in range(n_vars)]\n",
    "    # forecast sequence (t, t+1, ... t+n)\n",
    "    for i in range(0, n_out):\n",
    "        cols.append(df.shift(-i))\n",
    "        if i == 0:\n",
    "            names += [('var%d(t)' % (j+1)) for j in range(n_vars)]\n",
    "        else:\n",
    "            names += [('var%d(t+%d)' % (j+1, i)) for j in range(n_vars)]\n",
    "    # put it all together\n",
    "    agg = concat(cols, axis=1)\n",
    "    agg.columns = names\n",
    "    # drop rows with NaN values\n",
    "    if dropnan:\n",
    "        agg.fillna(0, inplace=True)\n",
    "    return agg"
   ]
  },
  {
   "cell_type": "markdown",
   "metadata": {},
   "source": [
    "### Initial Preprocessing"
   ]
  },
  {
   "cell_type": "code",
   "execution_count": 4,
   "metadata": {},
   "outputs": [],
   "source": [
    "#from pandas import read_csv\n",
    "data = pd.read_csv('../data/combined_cleaned.csv')\n",
    "#data = data.drop('No', axis=1, inplace=False)"
   ]
  },
  {
   "cell_type": "code",
   "execution_count": 5,
   "metadata": {},
   "outputs": [],
   "source": [
    "data = data.drop(data.columns[6:78], axis=1, inplace=False)"
   ]
  },
  {
   "cell_type": "code",
   "execution_count": 6,
   "metadata": {},
   "outputs": [],
   "source": [
    "#data.columns = ['pollution', 'dew', 'temp', 'press', 'wnd_dir', 'wnd_spd', 'snow', 'rain']"
   ]
  },
  {
   "cell_type": "code",
   "execution_count": 7,
   "metadata": {
    "scrolled": true
   },
   "outputs": [
    {
     "name": "stdout",
     "output_type": "stream",
     "text": [
      "   PM2.5   Temp     RH       BP    WS      WD\n",
      "0  16.75  24.18  77.39  1022.10  0.43  224.88\n",
      "1  21.00  23.94  78.98  1022.48  0.64  217.85\n",
      "2  19.50  23.75  80.74  1022.90  0.61  224.73\n",
      "3  25.25  23.59  81.87  1023.20  0.49  225.78\n",
      "4  31.00  23.47  81.64  1023.17  0.48  240.66\n"
     ]
    }
   ],
   "source": [
    "# mark all NA values with 0\n",
    "#data['PM2.5'].fillna(0, inplace=True)\n",
    "# drop the first 24 hours\n",
    "#data = data[24:]\n",
    "# summarize first 5 rows\n",
    "print(data.head(5))\n",
    "# save to file\n",
    "data.to_csv('pollution_nolanduse.csv')"
   ]
  },
  {
   "cell_type": "markdown",
   "metadata": {},
   "source": [
    "## Baseline LSTM + room to change network architecture"
   ]
  },
  {
   "cell_type": "code",
   "execution_count": 8,
   "metadata": {},
   "outputs": [
    {
     "name": "stdout",
     "output_type": "stream",
     "text": [
      "Index(['PM2.5', 'Temp', 'RH', 'BP', 'WS', 'WD'], dtype='object')\n",
      "(156046, 6)\n",
      "(156046, 12)\n",
      "(120000, 1, 6) (120000,) (36046, 1, 6) (36046,)\n",
      "Model: \"sequential\"\n",
      "____________________________________________________________________________________________________\n",
      "Layer (type)                                 Output Shape                            Param #        \n",
      "====================================================================================================\n",
      "bidirectional (Bidirectional)                (None, 1, 256)                          138240         \n",
      "____________________________________________________________________________________________________\n",
      "Attention (SeqSelfAttention)                 (None, None, 256)                       16449          \n",
      "____________________________________________________________________________________________________\n",
      "dense (Dense)                                (None, None, 50)                        12850          \n",
      "____________________________________________________________________________________________________\n",
      "dense_1 (Dense)                              (None, None, 1)                         51             \n",
      "====================================================================================================\n",
      "Total params: 167,590\n",
      "Trainable params: 167,590\n",
      "Non-trainable params: 0\n",
      "____________________________________________________________________________________________________\n"
     ]
    }
   ],
   "source": [
    "# load dataset\n",
    "dataset = pd.read_csv('pollution_nolanduse.csv', header=0, index_col=0)\n",
    "values = dataset.values\n",
    "print(dataset.columns)\n",
    "# integer encode direction\n",
    "#encoder = LabelEncoder()\n",
    "#values[:,4] = encoder.fit_transform(values[:,4])\n",
    "# ensure all data is float\n",
    "values = values.astype('float32')\n",
    "print(values.shape)\n",
    "# normalize features (after I reframe into a supervised learning problem)\n",
    "# frame as supervised learning -\n",
    "####### Can change t_input timesteps here ##########  ### I changed it to time lag = 4\n",
    "reframed = series_to_supervised(values, 1, 1, True)\n",
    "print(reframed.shape)\n",
    "# drop columns we don't want to predict\n",
    "reframed.drop(reframed.columns[7:12], axis=1, inplace=True)\n",
    "#print(reframed.head())\n",
    "\n",
    "# split into train and test sets\n",
    "values = reframed.values\n",
    "scaler = MinMaxScaler(feature_range=(0, 1))\n",
    "scaled_features = scaler.fit_transform(values[:,:-1])\n",
    "scaled_label = scaler.fit_transform(values[:,-1].reshape(-1,1))\n",
    "values = np.column_stack((scaled_features, scaled_label))\n",
    "\n",
    "n_train_hours = 120000\n",
    "train = values[:n_train_hours, :]\n",
    "test = values[n_train_hours:, :]\n",
    "# split into input and outputs\n",
    "# features take all values except the var1\n",
    "train_X, train_y = train[:, :-1], train[:, -1]\n",
    "test_X, test_y = test[:, :-1], test[:, -1]\n",
    "# reshape input to be 3D [samples, timesteps, features]\n",
    "train_X = train_X.reshape((train_X.shape[0], 1, train_X.shape[1]))\n",
    "test_X = test_X.reshape((test_X.shape[0], 1, test_X.shape[1]))\n",
    "print(train_X.shape, train_y.shape, test_X.shape, test_y.shape)\n",
    "# design network\n",
    "model = Sequential()\n",
    "#model.add(LSTM(128, input_shape=(train_X.shape[1], train_X.shape[2])))\n",
    "model.add(Bidirectional(LSTM(units=128, return_sequences=True), input_shape=(train_X.shape[1], train_X.shape[2])))\n",
    "model.add(SeqSelfAttention(\n",
    "    attention_width=3,\n",
    "    history_only=True,\n",
    "    name='Attention'))\n",
    "model.add(Dense(50, activation='tanh'))\n",
    "model.add(Dense(1))\n",
    "model.compile(loss='mae', optimizer='adam')\n",
    "model.summary(line_length=100)"
   ]
  },
  {
   "cell_type": "code",
   "execution_count": 9,
   "metadata": {},
   "outputs": [
    {
     "name": "stdout",
     "output_type": "stream",
     "text": [
      "   var1(t-1)  var2(t-1)  var3(t-1)    var4(t-1)  var5(t-1)   var6(t-1)  \\\n",
      "0       0.00   0.000000   0.000000     0.000000       0.00    0.000000   \n",
      "1      16.75  24.180000  77.389999  1022.099976       0.43  224.880005   \n",
      "2      21.00  23.940001  78.980003  1022.479980       0.64  217.850006   \n",
      "3      19.50  23.750000  80.739998  1022.900024       0.61  224.729996   \n",
      "4      25.25  23.590000  81.870003  1023.200012       0.49  225.779999   \n",
      "\n",
      "   var1(t)  \n",
      "0    16.75  \n",
      "1    21.00  \n",
      "2    19.50  \n",
      "3    25.25  \n",
      "4    31.00  \n"
     ]
    }
   ],
   "source": [
    "print(reframed.head())"
   ]
  },
  {
   "cell_type": "markdown",
   "metadata": {},
   "source": [
    "### Train and Test Neural Network"
   ]
  },
  {
   "cell_type": "code",
   "execution_count": 10,
   "metadata": {},
   "outputs": [
    {
     "name": "stdout",
     "output_type": "stream",
     "text": [
      "Epoch 1/25\n",
      "1667/1667 [==============================] - 10s 6ms/step - loss: 0.0111 - val_loss: 0.0079\n",
      "Epoch 2/25\n",
      "1667/1667 [==============================] - 10s 6ms/step - loss: 0.0094 - val_loss: 0.0078\n",
      "Epoch 3/25\n",
      "1667/1667 [==============================] - 10s 6ms/step - loss: 0.0090 - val_loss: 0.0081\n",
      "Epoch 4/25\n",
      "1667/1667 [==============================] - 10s 6ms/step - loss: 0.0089 - val_loss: 0.0082\n",
      "Epoch 5/25\n",
      "1667/1667 [==============================] - 10s 6ms/step - loss: 0.0089 - val_loss: 0.0081\n",
      "Epoch 6/25\n",
      "1667/1667 [==============================] - 10s 6ms/step - loss: 0.0088 - val_loss: 0.0086\n",
      "Epoch 7/25\n",
      "1667/1667 [==============================] - 10s 6ms/step - loss: 0.0088 - val_loss: 0.0088\n",
      "Epoch 8/25\n",
      "1667/1667 [==============================] - 11s 6ms/step - loss: 0.0087 - val_loss: 0.0087\n",
      "Epoch 9/25\n",
      "1667/1667 [==============================] - 10s 6ms/step - loss: 0.0087 - val_loss: 0.0093\n",
      "Epoch 10/25\n",
      "1667/1667 [==============================] - 10s 6ms/step - loss: 0.0087 - val_loss: 0.0091\n",
      "Epoch 11/25\n",
      "1667/1667 [==============================] - 10s 6ms/step - loss: 0.0087 - val_loss: 0.0093\n",
      "Epoch 12/25\n",
      "1667/1667 [==============================] - 10s 6ms/step - loss: 0.0087 - val_loss: 0.0092\n",
      "Epoch 13/25\n",
      "1667/1667 [==============================] - 10s 6ms/step - loss: 0.0086 - val_loss: 0.0091\n",
      "Epoch 14/25\n",
      "1667/1667 [==============================] - 10s 6ms/step - loss: 0.0086 - val_loss: 0.0091\n",
      "Epoch 15/25\n",
      "1667/1667 [==============================] - 10s 6ms/step - loss: 0.0086 - val_loss: 0.0092\n",
      "Epoch 16/25\n",
      "1667/1667 [==============================] - 11s 6ms/step - loss: 0.0086 - val_loss: 0.0091\n",
      "Epoch 17/25\n",
      "1667/1667 [==============================] - 11s 7ms/step - loss: 0.0086 - val_loss: 0.0087\n",
      "Epoch 18/25\n",
      "1667/1667 [==============================] - 11s 6ms/step - loss: 0.0086 - val_loss: 0.0088\n",
      "Epoch 19/25\n",
      "1667/1667 [==============================] - 10s 6ms/step - loss: 0.0086 - val_loss: 0.0089\n",
      "Epoch 20/25\n",
      "1667/1667 [==============================] - 11s 6ms/step - loss: 0.0086 - val_loss: 0.0089\n",
      "Epoch 21/25\n",
      "1667/1667 [==============================] - 10s 6ms/step - loss: 0.0086 - val_loss: 0.0089\n",
      "Epoch 22/25\n",
      "1667/1667 [==============================] - 10s 6ms/step - loss: 0.0086 - val_loss: 0.0087\n",
      "Epoch 23/25\n",
      "1667/1667 [==============================] - 11s 6ms/step - loss: 0.0086 - val_loss: 0.0090\n",
      "Epoch 24/25\n",
      "1667/1667 [==============================] - 11s 6ms/step - loss: 0.0086 - val_loss: 0.0087\n",
      "Epoch 25/25\n",
      "1667/1667 [==============================] - 11s 6ms/step - loss: 0.0086 - val_loss: 0.0088\n"
     ]
    },
    {
     "data": {
      "image/png": "[encoded data removed]",
      "text/plain": [
       "<Figure size 432x288 with 1 Axes>"
      ]
     },
     "metadata": {
      "needs_background": "light"
     },
     "output_type": "display_data"
    },
    {
     "ename": "ValueError",
     "evalue": "all the input arrays must have same number of dimensions, but the array at index 0 has 3 dimension(s) and the array at index 1 has 2 dimension(s)",
     "output_type": "error",
     "traceback": [
      "\u001b[0;31m---------------------------------------------------------------------------\u001b[0m",
      "\u001b[0;31mValueError\u001b[0m                                Traceback (most recent call last)",
      "\u001b[0;32m<ipython-input-10-0ad205e7cc3b>\u001b[0m in \u001b[0;36m<module>\u001b[0;34m\u001b[0m\n\u001b[1;32m     15\u001b[0m \u001b[0mtest_X\u001b[0m \u001b[0;34m=\u001b[0m \u001b[0mtest_X\u001b[0m\u001b[0;34m.\u001b[0m\u001b[0mreshape\u001b[0m\u001b[0;34m(\u001b[0m\u001b[0;34m(\u001b[0m\u001b[0mtest_X\u001b[0m\u001b[0;34m.\u001b[0m\u001b[0mshape\u001b[0m\u001b[0;34m[\u001b[0m\u001b[0;36m0\u001b[0m\u001b[0;34m]\u001b[0m\u001b[0;34m,\u001b[0m \u001b[0mtest_X\u001b[0m\u001b[0;34m.\u001b[0m\u001b[0mshape\u001b[0m\u001b[0;34m[\u001b[0m\u001b[0;36m2\u001b[0m\u001b[0;34m]\u001b[0m\u001b[0;34m)\u001b[0m\u001b[0;34m)\u001b[0m\u001b[0;34m\u001b[0m\u001b[0;34m\u001b[0m\u001b[0m\n\u001b[1;32m     16\u001b[0m \u001b[0;31m# invert scaling for forecast\u001b[0m\u001b[0;34m\u001b[0m\u001b[0;34m\u001b[0m\u001b[0;34m\u001b[0m\u001b[0m\n\u001b[0;32m---> 17\u001b[0;31m \u001b[0minv_yhat\u001b[0m \u001b[0;34m=\u001b[0m \u001b[0mconcatenate\u001b[0m\u001b[0;34m(\u001b[0m\u001b[0;34m(\u001b[0m\u001b[0myhat\u001b[0m\u001b[0;34m,\u001b[0m \u001b[0mtest_X\u001b[0m\u001b[0;34m[\u001b[0m\u001b[0;34m:\u001b[0m\u001b[0;34m,\u001b[0m \u001b[0;36m1\u001b[0m\u001b[0;34m:\u001b[0m\u001b[0;34m]\u001b[0m\u001b[0;34m)\u001b[0m\u001b[0;34m,\u001b[0m \u001b[0maxis\u001b[0m\u001b[0;34m=\u001b[0m\u001b[0;36m1\u001b[0m\u001b[0;34m)\u001b[0m\u001b[0;34m\u001b[0m\u001b[0;34m\u001b[0m\u001b[0m\n\u001b[0m\u001b[1;32m     18\u001b[0m \u001b[0minv_yhat\u001b[0m \u001b[0;34m=\u001b[0m \u001b[0mscaler\u001b[0m\u001b[0;34m.\u001b[0m\u001b[0minverse_transform\u001b[0m\u001b[0;34m(\u001b[0m\u001b[0minv_yhat\u001b[0m\u001b[0;34m)\u001b[0m\u001b[0;34m\u001b[0m\u001b[0;34m\u001b[0m\u001b[0m\n\u001b[1;32m     19\u001b[0m \u001b[0minv_yhat\u001b[0m \u001b[0;34m=\u001b[0m \u001b[0minv_yhat\u001b[0m\u001b[0;34m[\u001b[0m\u001b[0;34m:\u001b[0m\u001b[0;34m,\u001b[0m\u001b[0;36m0\u001b[0m\u001b[0;34m]\u001b[0m\u001b[0;34m\u001b[0m\u001b[0;34m\u001b[0m\u001b[0m\n",
      "\u001b[0;32m<__array_function__ internals>\u001b[0m in \u001b[0;36mconcatenate\u001b[0;34m(*args, **kwargs)\u001b[0m\n",
      "\u001b[0;31mValueError\u001b[0m: all the input arrays must have same number of dimensions, but the array at index 0 has 3 dimension(s) and the array at index 1 has 2 dimension(s)"
     ]
    }
   ],
   "source": [
    "start = time.time()\n",
    "\n",
    "# fit network\n",
    "###################### Can change Epochs, Batch size here #######################\n",
    "history = model.fit(train_X, train_y, epochs=25, batch_size=72, validation_data=(test_X, test_y), \n",
    "                    verbose=1, shuffle=False)\n",
    "# plot history\n",
    "pyplot.plot(history.history['loss'], label='train')\n",
    "pyplot.plot(history.history['val_loss'], label='test')\n",
    "pyplot.legend()\n",
    "pyplot.show()\n",
    "\n",
    "# make a prediction\n",
    "yhat = model.predict(test_X)\n",
    "test_X = test_X.reshape((test_X.shape[0], test_X.shape[2]))\n",
    "# invert scaling for forecast\n",
    "inv_yhat = concatenate((yhat, test_X[:, 1:]), axis=1)\n",
    "inv_yhat = scaler.inverse_transform(inv_yhat)\n",
    "inv_yhat = inv_yhat[:,0]\n",
    "# invert scaling for actual\n",
    "test_y = test_y.reshape((len(test_y), 1))\n",
    "inv_y = concatenate((test_y, test_X[:, 1:]), axis=1)\n",
    "inv_y = scaler.inverse_transform(inv_y)\n",
    "inv_y = inv_y[:,0]\n",
    "end = time.time()\n",
    "print('This took {} seconds.'.format(end - start))\n",
    "# calculate RMSE\n",
    "rmse = sqrt(mean_squared_error(inv_y, inv_yhat))\n",
    "print('Test RMSE: %.3f' % rmse)"
   ]
  },
  {
   "cell_type": "markdown",
   "metadata": {},
   "source": [
    "Test RMSE of 25.654 on best run"
   ]
  },
  {
   "cell_type": "markdown",
   "metadata": {},
   "source": [
    "### Plot Predicted vs. Actual and Calculate Errors"
   ]
  },
  {
   "cell_type": "code",
   "execution_count": null,
   "metadata": {},
   "outputs": [],
   "source": [
    "from matplotlib import pyplot as plt"
   ]
  },
  {
   "cell_type": "code",
   "execution_count": null,
   "metadata": {},
   "outputs": [],
   "source": [
    "def plot_predicted(predicted_data, true_data):\n",
    "    fig, ax = plt.subplots(figsize=(17,8))\n",
    "    ax.set_title('Prediction vs. Actual after 100 epochs of training')\n",
    "    ax.plot(true_data, label='True Data', color='green', linewidth='3')\n",
    "\n",
    "    ax.plot(predicted_data, label='Prediction', color='red', linewidth='2')\n",
    "    plt.legend()\n",
    "    plt.show()"
   ]
  },
  {
   "cell_type": "code",
   "execution_count": null,
   "metadata": {},
   "outputs": [],
   "source": [
    "plot_predicted(inv_yhat[:300,], inv_y[:300,])"
   ]
  },
  {
   "cell_type": "code",
   "execution_count": null,
   "metadata": {},
   "outputs": [],
   "source": [
    "print('Root Mean Squared Error: {:.4f}'.format(rmse))\n",
    "\n",
    "#Calculate R^2 (regression score function)\n",
    "#print('Variance score: %.2f' % r2_score(y, data_pred))\n",
    "print('Variance score: {:2f}'.format(r2_score(inv_y, inv_yhat)))"
   ]
  },
  {
   "cell_type": "code",
   "execution_count": null,
   "metadata": {},
   "outputs": [],
   "source": [
    "corr, _ = pearsonr(inv_y, inv_yhat)\n",
    "print('Pearsons correlation: %.3f' % corr)"
   ]
  }
 ],
 "metadata": {
  "kernelspec": {
   "display_name": "Python 3",
   "language": "python",
   "name": "python3"
  },
  "language_info": {
   "codemirror_mode": {
    "name": "ipython",
    "version": 3
   },
   "file_extension": ".py",
   "mimetype": "text/x-python",
   "name": "python",
   "nbconvert_exporter": "python",
   "pygments_lexer": "ipython3",
   "version": "3.6.13"
  }
 },
 "nbformat": 4,
 "nbformat_minor": 2
}
